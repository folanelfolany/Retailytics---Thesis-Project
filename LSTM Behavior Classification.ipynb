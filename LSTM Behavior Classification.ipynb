{
 "cells": [
  {
   "cell_type": "code",
   "execution_count": 3,
   "id": "246b571b",
   "metadata": {},
   "outputs": [],
   "source": [
    "import pandas as pd\n",
    "from keras.models import Sequential\n",
    "from keras.layers import LSTM, Dense\n",
    "from keras.utils import to_categorical\n",
    "from sklearn.model_selection import train_test_split\n",
    "import numpy as np"
   ]
  },
  {
   "cell_type": "code",
   "execution_count": 5,
   "id": "641d61d7",
   "metadata": {},
   "outputs": [],
   "source": [
    "import pandas as pd\n",
    "from keras.models import Sequential\n",
    "from keras.layers import LSTM, Dense\n",
    "from keras.utils import to_categorical\n",
    "from sklearn.model_selection import train_test_split\n",
    "import numpy as np\n",
    "\n",
    "# Load and prepare data\n",
    "def load_data(file_paths, behavior_of_interest):\n",
    "    data_list = []\n",
    "    labels_list = []\n",
    "    \n",
    "    for file_path in file_paths:\n",
    "        # Load your CSV file here\n",
    "        df = pd.read_csv(file_path)\n",
    "        \n",
    "        # Convert the DataFrame into a suitable format (e.g., 2D array where each row is a timestep and each column is a feature)\n",
    "        # Select only the columns for the x, y, and z coordinates\n",
    "        data = df[['x_coordinate', 'y_coordinate', 'z_coordinate']].values  # Assumes your DataFrame has columns 'x_coordinate', 'y_coordinate', 'z_coordinate'\n",
    "        data_list.append(data)\n",
    "        \n",
    "        # Create labels for your data\n",
    "        # If the file represents the behavior of interest, label it as 1; otherwise, label it as 0\n",
    "        labels = np.ones((1,)) if behavior_of_interest else np.zeros((1,))\n",
    "        labels_list.append(labels)\n",
    "    \n",
    "    # Convert the lists of arrays into 3D array for data and 2D array for labels\n",
    "    data = np.array(data_list)\n",
    "    labels = np.array(labels_list)\n",
    "    \n",
    "    return data, labels"
   ]
  },
  {
   "cell_type": "code",
   "execution_count": 7,
   "id": "f2375da4",
   "metadata": {},
   "outputs": [
    {
     "ename": "TypeError",
     "evalue": "load_data() missing 1 required positional argument: 'behavior_of_interest'",
     "output_type": "error",
     "traceback": [
      "\u001b[1;31m---------------------------------------------------------------------------\u001b[0m",
      "\u001b[1;31mTypeError\u001b[0m                                 Traceback (most recent call last)",
      "\u001b[1;32m~\\AppData\\Local\\Temp/ipykernel_26120/4086126560.py\u001b[0m in \u001b[0;36m<module>\u001b[1;34m\u001b[0m\n\u001b[1;32m----> 1\u001b[1;33m \u001b[0mdata\u001b[0m\u001b[1;33m,\u001b[0m \u001b[0mlabels\u001b[0m \u001b[1;33m=\u001b[0m \u001b[0mload_data\u001b[0m\u001b[1;33m(\u001b[0m\u001b[1;34mr'C:\\Users\\nadde\\Desktop\\NadderReaching1.csv'\u001b[0m\u001b[1;33m)\u001b[0m  \u001b[1;31m# Replace this with the actual path to your CSV file\u001b[0m\u001b[1;33m\u001b[0m\u001b[1;33m\u001b[0m\u001b[0m\n\u001b[0m\u001b[0;32m      2\u001b[0m \u001b[0mlabels\u001b[0m \u001b[1;33m=\u001b[0m \u001b[0mto_categorical\u001b[0m\u001b[1;33m(\u001b[0m\u001b[0mlabels\u001b[0m\u001b[1;33m,\u001b[0m \u001b[0mnum_classes\u001b[0m\u001b[1;33m=\u001b[0m\u001b[1;36m2\u001b[0m\u001b[1;33m)\u001b[0m  \u001b[1;31m# Convert labels to one-hot encoding\u001b[0m\u001b[1;33m\u001b[0m\u001b[1;33m\u001b[0m\u001b[0m\n\u001b[0;32m      3\u001b[0m \u001b[0mx_train\u001b[0m\u001b[1;33m,\u001b[0m \u001b[0mx_test\u001b[0m\u001b[1;33m,\u001b[0m \u001b[0my_train\u001b[0m\u001b[1;33m,\u001b[0m \u001b[0my_test\u001b[0m \u001b[1;33m=\u001b[0m \u001b[0mtrain_test_split\u001b[0m\u001b[1;33m(\u001b[0m\u001b[0mdata\u001b[0m\u001b[1;33m,\u001b[0m \u001b[0mlabels\u001b[0m\u001b[1;33m,\u001b[0m \u001b[0mtest_size\u001b[0m\u001b[1;33m=\u001b[0m\u001b[1;36m0.2\u001b[0m\u001b[1;33m)\u001b[0m  \u001b[1;31m# Split data into training set and test set\u001b[0m\u001b[1;33m\u001b[0m\u001b[1;33m\u001b[0m\u001b[0m\n\u001b[0;32m      4\u001b[0m \u001b[1;33m\u001b[0m\u001b[0m\n\u001b[0;32m      5\u001b[0m \u001b[1;31m# Create model\u001b[0m\u001b[1;33m\u001b[0m\u001b[1;33m\u001b[0m\u001b[0m\n",
      "\u001b[1;31mTypeError\u001b[0m: load_data() missing 1 required positional argument: 'behavior_of_interest'"
     ]
    }
   ],
   "source": [
    "\n",
    "data, labels = load_data(r'C:\\Users\\nadde\\Desktop\\NadderReaching1.csv')  # Replace this with the actual path to your CSV file\n",
    "labels = to_categorical(labels, num_classes=2)  # Convert labels to one-hot encoding\n",
    "x_train, x_test, y_train, y_test = train_test_split(data, labels, test_size=0.2)  # Split data into training set and test set\n",
    "\n",
    "# Create model\n",
    "model = Sequential()\n",
    "model.add(LSTM(32, return_sequences=True, input_shape=(None, 3)))  # Variable number of timesteps, 3 features\n",
    "model.add(LSTM(32))\n",
    "model.add(Dense(2, activation='softmax'))  # Only two classes now: the behavior of interest and all other behaviors\n",
    "\n",
    "# Compile model\n",
    "model.compile(loss='binary_crossentropy',  # Use binary crossentropy for binary classification\n",
    "              optimizer='adam',\n",
    "              metrics=['accuracy'])\n",
    "\n",
    "# Train model\n",
    "model.fit(x_train, y_train, batch_size=64, epochs=5)\n"
   ]
  },
  {
   "cell_type": "code",
   "execution_count": null,
   "id": "0b087561",
   "metadata": {},
   "outputs": [],
   "source": [
    "\n",
    "# Evaluate model\n",
    "score = model.evaluate(x_test, y_test, batch_size=64)\n",
    "print('Test loss:', score[0])\n",
    "print('Test accuracy:', score[1])\n"
   ]
  },
  {
   "cell_type": "code",
   "execution_count": null,
   "id": "55df3567",
   "metadata": {},
   "outputs": [],
   "source": [
    "# Now the model is ready to make predictions on new data\n",
    "# Here's how you might use it to predict the behavior in a new video:\n",
    "def predict_behavior(model, video):\n",
    "    # Extract elbow coordinates from video and prepare them in the same way as your training data\n",
    "    # This is just a placeholder. Replace this with your actual code.\n",
    "    elbow_coordinates = extract_elbow_coordinates(video)\n",
    "    data = prepare_data(elbow_coordinates)\n",
    "    \n",
    "    # Use the model to predict the behavior\n",
    "    prediction = model.predict(data)\n",
    "    behavior = np.argmax(prediction)\n",
    "    \n",
    "    return behavior\n"
   ]
  }
 ],
 "metadata": {
  "kernelspec": {
   "display_name": "Python 3 (ipykernel)",
   "language": "python",
   "name": "python3"
  },
  "language_info": {
   "codemirror_mode": {
    "name": "ipython",
    "version": 3
   },
   "file_extension": ".py",
   "mimetype": "text/x-python",
   "name": "python",
   "nbconvert_exporter": "python",
   "pygments_lexer": "ipython3",
   "version": "3.9.7"
  }
 },
 "nbformat": 4,
 "nbformat_minor": 5
}
