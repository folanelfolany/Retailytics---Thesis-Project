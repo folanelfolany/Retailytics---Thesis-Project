{
 "cells": [
  {
   "cell_type": "code",
   "execution_count": 4,
   "id": "ea2c3cb3",
   "metadata": {},
   "outputs": [],
   "source": [
    "import numpy as np\n",
    "import cv2\n",
    "import copy\n",
    "from progress.bar import Bar"
   ]
  },
  {
   "cell_type": "code",
   "execution_count": 2,
   "id": "62bd1590",
   "metadata": {},
   "outputs": [
    {
     "name": "stdout",
     "output_type": "stream",
     "text": [
      "Note: you may need to restart the kernel to use updated packages.\n"
     ]
    },
    {
     "name": "stderr",
     "output_type": "stream",
     "text": [
      "WARNING: Ignoring invalid distribution -pencv-contrib-python (c:\\users\\nadde\\anaconda3\\lib\\site-packages)\n",
      "WARNING: Ignoring invalid distribution -pencv-contrib-python (c:\\users\\nadde\\anaconda3\\lib\\site-packages)\n",
      "ERROR: Could not find a version that satisfies the requirement video (from versions: none)\n",
      "ERROR: No matching distribution found for video\n",
      "WARNING: Ignoring invalid distribution -pencv-contrib-python (c:\\users\\nadde\\anaconda3\\lib\\site-packages)\n",
      "WARNING: Ignoring invalid distribution -pencv-contrib-python (c:\\users\\nadde\\anaconda3\\lib\\site-packages)\n",
      "WARNING: Ignoring invalid distribution -pencv-contrib-python (c:\\users\\nadde\\anaconda3\\lib\\site-packages)\n"
     ]
    }
   ],
   "source": [
    "pip install video"
   ]
  },
  {
   "cell_type": "code",
   "execution_count": null,
   "id": "574fb6c4",
   "metadata": {},
   "outputs": [],
   "source": []
  },
  {
   "cell_type": "code",
   "execution_count": 16,
   "id": "1bf7a4f9",
   "metadata": {},
   "outputs": [],
   "source": [
    "import cv2\n",
    "import numpy as np\n",
    "from progress.bar import Bar\n",
    "import copy\n",
    "\n",
    "def main():\n",
    "    capture = cv2.VideoCapture(r'C:\\Users\\nadde\\Downloads\\x2mate.com-Novak Djokovic .mp4')\n",
    "    if not capture.isOpened():\n",
    "        print(\"Error: Could not open video.\")\n",
    "        return\n",
    "\n",
    "    # Load the Haar cascade xml file for body detection\n",
    "    body_cascade = cv2.CascadeClassifier(cv2.data.haarcascades + 'haarcascade_fullbody.xml')\n",
    "\n",
    "    length = int(capture.get(cv2.CAP_PROP_FRAME_COUNT))\n",
    "\n",
    "    bar = Bar('Processing Frames', max=length)\n",
    "\n",
    "    first_iteration_indicator = 1\n",
    "    accum_image = None  # Define accum_image here\n",
    "    for i in range(0, length):\n",
    "\n",
    "        ret, frame = capture.read()\n",
    "        if not ret:\n",
    "            print(\"Error: Could not read frame.\")\n",
    "            break\n",
    "\n",
    "        # If first frame\n",
    "        if first_iteration_indicator == 1:\n",
    "\n",
    "            first_frame = copy.deepcopy(frame)\n",
    "            height, width = frame.shape[:2]\n",
    "            accum_image = np.zeros((height, width), np.uint8)  # Update accum_image here\n",
    "            first_iteration_indicator = 0\n",
    "        else:\n",
    "\n",
    "            # Convert the frame to grayscale\n",
    "            gray = cv2.cvtColor(frame, cv2.COLOR_BGR2GRAY)\n",
    "\n",
    "            # Perform body detection\n",
    "            bodies = body_cascade.detectMultiScale(gray, 1.1, 3)\n",
    "\n",
    "            # Create an empty mask to draw the detected bodies\n",
    "            body_mask = np.zeros_like(gray)\n",
    "\n",
    "            # Draw the detected bodies on the mask\n",
    "            for (x, y, w, h) in bodies:\n",
    "                body_mask[y:y+h, x:x+w] = 255\n",
    "\n",
    "            # add to the accumulated image\n",
    "            accum_image = cv2.add(accum_image, body_mask)\n",
    "\n",
    "            if cv2.waitKey(1) & 0xFF == ord('q'):\n",
    "                break\n",
    "        bar.next()\n",
    "\n",
    "    bar.finish()\n",
    "\n",
    "    if accum_image is None:\n",
    "        print(\"Error: accum_image is None.\")\n",
    "        return\n",
    "\n",
    "    color_image = cv2.applyColorMap(accum_image, cv2.COLORMAP_HOT)\n",
    "    result_overlay = cv2.addWeighted(first_frame, 0.7, color_image, 0.7, 0)\n",
    "\n",
    "    # save the final heatmap\n",
    "    cv2.imwrite('tenn.jpg', result_overlay)\n",
    "\n",
    "    # cleanup\n",
    "    capture.release()\n",
    "    cv2.destroyAllWindows()\n",
    "\n",
    "\n",
    "if __name__ == '__main__':\n",
    "    main()\n"
   ]
  }
 ],
 "metadata": {
  "kernelspec": {
   "display_name": "Python 3 (ipykernel)",
   "language": "python",
   "name": "python3"
  },
  "language_info": {
   "codemirror_mode": {
    "name": "ipython",
    "version": 3
   },
   "file_extension": ".py",
   "mimetype": "text/x-python",
   "name": "python",
   "nbconvert_exporter": "python",
   "pygments_lexer": "ipython3",
   "version": "3.9.7"
  }
 },
 "nbformat": 4,
 "nbformat_minor": 5
}
