{
 "cells": [
  {
   "cell_type": "code",
   "execution_count": 2,
   "id": "9e75327c",
   "metadata": {},
   "outputs": [],
   "source": [
    "import threading\n",
    "\n",
    "import cv2\n",
    "from deepface import DeepFace"
   ]
  },
  {
   "cell_type": "code",
   "execution_count": 3,
   "id": "8d4caf56",
   "metadata": {},
   "outputs": [],
   "source": [
    "# Not matching face each frame, only once in a while, counter variable\n",
    "\n",
    "counter = 0\n",
    "\n",
    "# Storing face detection status in boolean\n",
    "face_match = \"False\"\n",
    "\n",
    "ref_img = cv2.imread(\"Nadder Reference.jpeg\")\n",
    "\n",
    "nagaty_ref = \"Nagaty Reference.jpeg\"\n",
    "nour_ref = \"Nour Reference.jpeg\"\n",
    "raafat_ref = \"Raafat Reference.jpeg\""
   ]
  },
  {
   "cell_type": "code",
   "execution_count": 4,
   "id": "e51a278d",
   "metadata": {},
   "outputs": [],
   "source": [
    "#Machine Learning for face recognition\n",
    "def check_face(frame):\n",
    "    global face_match\n",
    "    try:\n",
    "        if DeepFace.verify(frame, ref_img.copy())['verified']:\n",
    "            face_match = \"Nadder\"\n",
    "        elif DeepFace.verify(frame, nagaty_ref.copy())['verified']:\n",
    "            face_match = \"Nagaty\"\n",
    "        elif DeepFace.verify(frame, nour_ref.copy())['verified']:\n",
    "            face_match = \"Nour\"\n",
    "        elif DeepFace.verify(frame, raafat_ref.copy())['verified']:\n",
    "            face_match = \"Raafat\"\n",
    "        else:\n",
    "            face_match = False\n",
    "    except ValueError:\n",
    "        face_match = False"
   ]
  },
  {
   "cell_type": "code",
   "execution_count": 5,
   "id": "55902210",
   "metadata": {},
   "outputs": [],
   "source": [
    "#Basic OpenCV Camera Structure\n",
    "\n",
    "#Capture object, 0 = webcam\n",
    "# cap = cv2.VideoCapture(0,cv2.CAP_DSHOW)\n",
    "cap = cv2.VideoCapture(0)\n",
    "cap.set(cv2.CAP_PROP_FRAME_WIDTH, 640)\n",
    "cap.set(cv2.CAP_PROP_FRAME_WIDTH, 480)\n",
    "\n",
    "\n",
    "    \n",
    "                     \n",
    "while True:\n",
    "    ret,frame = cap.read()\n",
    "    \n",
    "    if ret:\n",
    "        if counter % 30 == 0:\n",
    "            try:\n",
    "                #Compare camera frame with photo reference\n",
    "                threading.Thread(target=check_face, args=(frame.copy(),)).start()\n",
    "            except ValueError:\n",
    "                # ValueError is if it doesnt recognize a face\n",
    "                pass\n",
    "        counter += 1\n",
    "        \n",
    "        if face_match == \"Nadder\":\n",
    "            cv2.putText(frame, \"Nadder\", (20,450), cv2.FONT_HERSHEY_SIMPLEX, 2, (0,255,0),3)\n",
    "        elif face_match == \"Nagaty\":\n",
    "            cv2.putText(frame, \"Nagaty\", (20,450), cv2.FONT_HERSHEY_SIMPLEX, 2, (0,255,0),3)\n",
    "        elif face_match == \"Nour\":\n",
    "            cv2.putText(frame, \"Nour\", (20,450), cv2.FONT_HERSHEY_SIMPLEX, 2, (0,255,0),3)\n",
    "        elif face_match == \"Raafat\":\n",
    "            cv2.putText(frame, \"Raafat\", (20,450), cv2.FONT_HERSHEY_SIMPLEX, 2, (0,255,0),3)\n",
    "            \n",
    "        else:\n",
    "            cv2.putText(frame, \"NO MATCH!\", (20,450), cv2.FONT_HERSHEY_SIMPLEX, 2, (0,0,255),3)\n",
    "        cv2.imshow(\"video\", frame)\n",
    "    key = cv2.waitKey(1)\n",
    "    if key == ord(\"q\"):\n",
    "        break\n",
    "cv2.destroyAllWindows()"
   ]
  },
  {
   "cell_type": "code",
   "execution_count": null,
   "id": "fc3c1ced",
   "metadata": {},
   "outputs": [],
   "source": []
  }
 ],
 "metadata": {
  "kernelspec": {
   "display_name": "Python 3 (ipykernel)",
   "language": "python",
   "name": "python3"
  },
  "language_info": {
   "codemirror_mode": {
    "name": "ipython",
    "version": 3
   },
   "file_extension": ".py",
   "mimetype": "text/x-python",
   "name": "python",
   "nbconvert_exporter": "python",
   "pygments_lexer": "ipython3",
   "version": "3.9.7"
  }
 },
 "nbformat": 4,
 "nbformat_minor": 5
}
