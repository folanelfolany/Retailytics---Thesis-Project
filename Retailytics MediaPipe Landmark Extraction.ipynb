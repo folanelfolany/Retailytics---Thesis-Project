{
 "cells": [
  {
   "cell_type": "code",
   "execution_count": 9,
   "id": "0feeef43",
   "metadata": {},
   "outputs": [],
   "source": [
    "import cv2\n",
    "import mediapipe as mp\n",
    "import csv\n",
    "import time"
   ]
  },
  {
   "cell_type": "code",
   "execution_count": 4,
   "id": "e9b0cfb1",
   "metadata": {},
   "outputs": [],
   "source": [
    "mp_drawing = mp.solutions.drawing_utils\n",
    "mp_pose = mp.solutions.pose"
   ]
  },
  {
   "cell_type": "code",
   "execution_count": 14,
   "id": "4e8b7a17",
   "metadata": {},
   "outputs": [],
   "source": [
    "cap = cv2.VideoCapture(r'C:\\Users\\nadde\\Downloads\\Nadder - Reaching.MOV')\n",
    "landmarks = []\n",
    "start_time = time.time()\n",
    "\n",
    "with mp_pose.Pose() as pose:\n",
    "  while cap.isOpened():\n",
    "    ret, frame = cap.read()\n",
    "    if not ret:\n",
    "      break\n",
    "\n",
    "    # Convert the BGR image to RGB before processing.\n",
    "    results = pose.process(cv2.cvtColor(frame, cv2.COLOR_BGR2RGB))\n",
    "\n",
    "    if results.pose_landmarks:\n",
    "      landmark = results.pose_landmarks.landmark[13]\n",
    "      elapsed_time = time.time() - start_time\n",
    "      if elapsed_time % 0.2 < 0.01:  # Check if a fifth of a second has passed\n",
    "        landmarks.append([\n",
    "            elapsed_time,  # Add timestamp\n",
    "            landmark.x * frame.shape[1],  # Multiply by frame width\n",
    "            landmark.y * frame.shape[0],  # Multiply by frame height\n",
    "            landmark.z * frame.shape[0]   # Multiply by frame height for depth\n",
    "        ])\n",
    "\n",
    "# Write landmarks to a CSV file\n",
    "with open('NadderReaching1.csv', 'w', newline='') as f:\n",
    "  writer = csv.writer(f)\n",
    "  writer.writerow(['timestamp', 'x_coordinate', 'y_coordinate', 'z_coordinate'])\n",
    "  writer.writerows(landmarks)"
   ]
  },
  {
   "cell_type": "code",
   "execution_count": 15,
   "id": "6b79a722",
   "metadata": {},
   "outputs": [
    {
     "name": "stdout",
     "output_type": "stream",
     "text": [
      "    timestamp  x_coordinate  y_coordinate  z_coordinate\n",
      "0    5.204504    590.811195   2058.996806     19.439150\n",
      "1    6.403505   1373.882332   2406.733789  -1463.626871\n",
      "2    9.605504   2707.499084   2464.984674   -574.066844\n",
      "3   10.005504   2913.372574   2620.608759   -726.897912\n",
      "4   10.409504   3152.277145   2570.173788   -588.182559\n",
      "5   12.200505   3072.003708   2112.990961      0.323826\n",
      "6   12.600505   2105.435028   2071.154809   -113.822911\n",
      "7   16.801505   2155.488739   1269.488540   -698.465703\n",
      "8   18.604505   2346.294708   1541.972823   -781.174922\n",
      "9   19.604311   2530.126648   1690.310912   -812.457504\n",
      "10  21.004310   2395.804367   1615.100183   -623.961854\n",
      "11  22.201310   2351.282043   1658.912587   -612.984259\n",
      "12  24.002310   2214.053879   1728.360257   -547.724955\n",
      "13  24.803310   2250.300751   1767.601919   -499.579346\n",
      "14  28.000310   2264.024963   1786.513939   -555.818188\n",
      "15  29.206311   2244.005814   1760.701389   -530.743128\n",
      "16  29.600310   2257.461319   1762.726951   -544.782722\n",
      "17  30.006311   2254.989395   1756.893468   -540.953815\n",
      "18  30.804310   2270.228806   1754.921722   -565.263641\n",
      "19  32.003310   2281.276016   1779.600663   -528.803698\n",
      "20  32.809319   2323.135529   1789.601655   -459.781533\n",
      "21  35.407310   2618.137207   1694.355469   -566.492522\n",
      "22  37.601310   2290.405655   1719.307866   -513.007493\n",
      "23  38.009310   2291.466522   1713.882508   -565.903831\n",
      "24  40.805311   2210.075226   1668.388553   -143.442537\n",
      "25  41.206311   2232.794724   1647.821245    -61.874112\n",
      "26  42.202311   2249.433746   1589.810729    -23.625613\n",
      "27  43.003310   2310.160217   1557.245965     62.495428\n",
      "28  43.403311   2340.629425   1520.620551      6.593757\n",
      "29  44.608310   2483.871002   1401.716766    151.116123\n",
      "30  44.806311   2512.504807   1384.456687    230.186979\n",
      "31  45.002311   2534.474030   1377.936602    200.354737\n",
      "32  45.408310   2664.623337   1371.377249     14.941101\n",
      "33  45.602310   2715.195694   1369.130630     26.614790\n",
      "34  46.004310   2777.883682   1353.691406    118.786666\n",
      "35  46.400311   2809.378510   1321.023002    173.767008\n"
     ]
    }
   ],
   "source": [
    "import pandas as pd\n",
    "\n",
    "# Read the CSV file\n",
    "df = pd.read_csv('NadderReaching1.csv')\n",
    "\n",
    "# Output the contents of the CSV file\n",
    "print(df)"
   ]
  }
 ],
 "metadata": {
  "kernelspec": {
   "display_name": "Python 3 (ipykernel)",
   "language": "python",
   "name": "python3"
  },
  "language_info": {
   "codemirror_mode": {
    "name": "ipython",
    "version": 3
   },
   "file_extension": ".py",
   "mimetype": "text/x-python",
   "name": "python",
   "nbconvert_exporter": "python",
   "pygments_lexer": "ipython3",
   "version": "3.9.7"
  }
 },
 "nbformat": 4,
 "nbformat_minor": 5
}
