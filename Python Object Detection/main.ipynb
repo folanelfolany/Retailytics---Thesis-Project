{
 "cells": [
  {
   "cell_type": "code",
   "execution_count": 1,
   "id": "33f75e3b",
   "metadata": {},
   "outputs": [],
   "source": [
    "import cv2\n",
    "import cvlib as cv\n",
    "from cvlib.object_detection import draw_bbox\n",
    "from gtts import gTTS\n",
    "#from playsound import playsound"
   ]
  },
  {
   "cell_type": "code",
   "execution_count": null,
   "id": "67c466f9",
   "metadata": {},
   "outputs": [],
   "source": [
    "video = cv2.VideoCapture(0)\n",
    "mylabels = [\"cell phone\", \"bottle\", \"clock\"]\n",
    "while True:\n",
    "    ret, frame, = video.read()\n",
    "    bbox, label, conf = cv.detect_common_objects(frame)\n",
    "    output_image = draw_bbox(frame,bbox, label, conf)\n",
    "    \n",
    "    cv2.imshow(\"Object Detection\", output_image)\n",
    "    \n",
    "    for item in label:\n",
    "        if item in mylabels:\n",
    "            print(item)\n",
    "        else:\n",
    "            pass\n",
    "\n",
    "    key = cv2.waitKey(1)\n",
    "    if key == ord(\"q\"):\n",
    "        break\n",
    "cv2.destroyAllWindows()"
   ]
  },
  {
   "cell_type": "code",
   "execution_count": null,
   "id": "80a78c34",
   "metadata": {},
   "outputs": [],
   "source": []
  }
 ],
 "metadata": {
  "kernelspec": {
   "display_name": "Python 3 (ipykernel)",
   "language": "python",
   "name": "python3"
  },
  "language_info": {
   "codemirror_mode": {
    "name": "ipython",
    "version": 3
   },
   "file_extension": ".py",
   "mimetype": "text/x-python",
   "name": "python",
   "nbconvert_exporter": "python",
   "pygments_lexer": "ipython3",
   "version": "3.9.7"
  }
 },
 "nbformat": 4,
 "nbformat_minor": 5
}
